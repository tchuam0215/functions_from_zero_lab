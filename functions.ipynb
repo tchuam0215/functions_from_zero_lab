{
  "nbformat": 4,
  "nbformat_minor": 0,
  "metadata": {
    "colab": {
      "provenance": [],
      "authorship_tag": "ABX9TyMSDIZ8b/H570HgkrtZb2Ba",
      "include_colab_link": true
    },
    "kernelspec": {
      "name": "python3",
      "display_name": "Python 3"
    },
    "language_info": {
      "name": "python"
    }
  },
  "cells": [
    {
      "cell_type": "markdown",
      "metadata": {
        "id": "view-in-github",
        "colab_type": "text"
      },
      "source": [
        "<a href=\"https://colab.research.google.com/github/tchuam0215/functions_from_zero_lab/blob/main/functions.ipynb\" target=\"_parent\"><img src=\"https://colab.research.google.com/assets/colab-badge.svg\" alt=\"Open In Colab\"/></a>"
      ]
    },
    {
      "cell_type": "markdown",
      "source": [
        "## Functions"
      ],
      "metadata": {
        "id": "XJDchz_7Mmzb"
      }
    },
    {
      "cell_type": "code",
      "source": [
        "def simple():pass"
      ],
      "metadata": {
        "id": "DZg0LYQRMozO"
      },
      "execution_count": 1,
      "outputs": []
    },
    {
      "cell_type": "code",
      "source": [
        "def simple2():\n",
        "  print(\"simple\")"
      ],
      "metadata": {
        "id": "R6MapVylMtx3"
      },
      "execution_count": 3,
      "outputs": []
    },
    {
      "cell_type": "code",
      "source": [
        "simple2()"
      ],
      "metadata": {
        "colab": {
          "base_uri": "https://localhost:8080/"
        },
        "id": "F4i_OjVJNR98",
        "outputId": "770190a1-60c5-4d39-b62b-54dad5beac28"
      },
      "execution_count": 4,
      "outputs": [
        {
          "output_type": "stream",
          "name": "stdout",
          "text": [
            "simple\n"
          ]
        }
      ]
    },
    {
      "cell_type": "markdown",
      "source": [
        "## Most useful functions"
      ],
      "metadata": {
        "id": "irMBpqN5M-r0"
      }
    },
    {
      "cell_type": "code",
      "source": [
        "def my_worker(fruit):\n",
        "  statement = f\"My favorite meal is chicken and {fruit}\"\n",
        "  meals = {\"dinner\": statement}\n",
        "  return meals"
      ],
      "metadata": {
        "id": "i2y2s0E2M3Ht"
      },
      "execution_count": 8,
      "outputs": []
    },
    {
      "cell_type": "code",
      "source": [
        "my_worker(\"Apple\")"
      ],
      "metadata": {
        "colab": {
          "base_uri": "https://localhost:8080/"
        },
        "id": "blHzGktANtwC",
        "outputId": "15f33f06-a3ba-4f73-c6f8-099453bb771e"
      },
      "execution_count": 9,
      "outputs": [
        {
          "output_type": "execute_result",
          "data": {
            "text/plain": [
              "{'dinner': 'My favorite meal is chicken and Apple'}"
            ]
          },
          "metadata": {},
          "execution_count": 9
        }
      ]
    },
    {
      "cell_type": "code",
      "source": [
        "meal = my_worker(\"Apple\")"
      ],
      "metadata": {
        "id": "dm2ZAQ9xNyYZ"
      },
      "execution_count": 10,
      "outputs": []
    },
    {
      "cell_type": "code",
      "source": [
        "type(meal)"
      ],
      "metadata": {
        "colab": {
          "base_uri": "https://localhost:8080/"
        },
        "id": "TQd-aVH3OFy0",
        "outputId": "99308513-f4cb-4e18-d9bc-2652c5069995"
      },
      "execution_count": 11,
      "outputs": [
        {
          "output_type": "execute_result",
          "data": {
            "text/plain": [
              "dict"
            ]
          },
          "metadata": {},
          "execution_count": 11
        }
      ]
    },
    {
      "cell_type": "code",
      "source": [
        "meal.keys()"
      ],
      "metadata": {
        "colab": {
          "base_uri": "https://localhost:8080/"
        },
        "id": "cMjVElJDOHdX",
        "outputId": "2fa08190-d76f-4df8-a25e-1fc274f25b36"
      },
      "execution_count": 12,
      "outputs": [
        {
          "output_type": "execute_result",
          "data": {
            "text/plain": [
              "dict_keys(['dinner'])"
            ]
          },
          "metadata": {},
          "execution_count": 12
        }
      ]
    },
    {
      "cell_type": "code",
      "source": [
        "meal.values()"
      ],
      "metadata": {
        "colab": {
          "base_uri": "https://localhost:8080/"
        },
        "id": "dVrCOtgGOMCV",
        "outputId": "c763202a-2f33-4e2b-9ab4-d57d21918995"
      },
      "execution_count": 13,
      "outputs": [
        {
          "output_type": "execute_result",
          "data": {
            "text/plain": [
              "dict_values(['My favorite meal is chicken and Apple'])"
            ]
          },
          "metadata": {},
          "execution_count": 13
        }
      ]
    },
    {
      "cell_type": "code",
      "source": [
        "def human(food):\n",
        "  consume = food[\"dinner\"]\n",
        "  return consume"
      ],
      "metadata": {
        "id": "maFKNk7qOOGs"
      },
      "execution_count": 14,
      "outputs": []
    },
    {
      "cell_type": "code",
      "source": [
        "my_meal = human(meal)\n",
        "print(f\"I want my meal, It'll be {my_meal}\")"
      ],
      "metadata": {
        "colab": {
          "base_uri": "https://localhost:8080/"
        },
        "id": "9D84If7OOqTa",
        "outputId": "af9efd61-9bd0-4733-eab8-fb1259e8a5cb"
      },
      "execution_count": 15,
      "outputs": [
        {
          "output_type": "stream",
          "name": "stdout",
          "text": [
            "I want my meal, It'll be My favorite meal is chicken and Apple\n"
          ]
        }
      ]
    },
    {
      "cell_type": "code",
      "source": [],
      "metadata": {
        "id": "OQ0Y3bp8PH2p"
      },
      "execution_count": null,
      "outputs": []
    }
  ]
}